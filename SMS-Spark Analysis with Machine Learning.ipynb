{
 "cells": [
  {
   "cell_type": "code",
   "execution_count": 58,
   "id": "c49d3689",
   "metadata": {},
   "outputs": [],
   "source": [
    "###IMPORTING THE LIBRARIES\n",
    "#Session\n",
    "from pyspark.sql import SparkSession\n",
    "\n",
    "##Functions for creating the structure\n",
    "from pyspark.sql.types import StructType, StructField, StringType, IntegerType, DoubleType\n",
    "\n",
    "##Functions for Data engineering\n",
    "from pyspark.sql.functions import col,sum,avg,round,monotonically_increasing_id,lit\n",
    "\n",
    "##Functions for the model\n",
    "from pyspark.ml.feature import StringIndexer,OneHotEncoder,VectorAssembler\n",
    "from pyspark.ml import Pipeline\n",
    "\n",
    "###Functions for NLP\n",
    "from pyspark.ml.feature import Tokenizer, StopWordsRemover, HashingTF, IDF\n",
    "\n",
    "##Importing the Machine learning models\n",
    "from pyspark.ml.classification import LogisticRegression\n",
    "\n",
    "##Importing the evaluators\n",
    "from pyspark.ml.evaluation import MulticlassClassificationEvaluator,BinaryClassificationEvaluator\n",
    "\n",
    "##Grid and cross validator\n",
    "from pyspark.ml.tuning import TrainValidationSplit, ParamGridBuilder,CrossValidator\n",
    "\n",
    "#CREATING THE SESSION\n",
    "sesion=SparkSession.builder.appName(\"sesion\").getOrCreate()"
   ]
  },
  {
   "cell_type": "code",
   "execution_count": 59,
   "id": "164c92a5",
   "metadata": {},
   "outputs": [],
   "source": [
    "schema = StructType([\n",
    "        StructField(\"id\", IntegerType()),\n",
    "        StructField(\"text\", StringType()),\n",
    "        StructField(\"label\", IntegerType())\n",
    "    \n",
    "])"
   ]
  },
  {
   "cell_type": "code",
   "execution_count": 61,
   "id": "f15aa689",
   "metadata": {},
   "outputs": [
    {
     "name": "stdout",
     "output_type": "stream",
     "text": [
      "+---+--------------------+-----+\n",
      "| id|                text|label|\n",
      "+---+--------------------+-----+\n",
      "|  1|Sorry, I'll call ...|    0|\n",
      "|  2|Dont worry. I gue...|    0|\n",
      "|  3|Call FREEPHONE 08...|    1|\n",
      "|  4|Win a 1000 cash p...|    1|\n",
      "|  5|Go until jurong p...|    0|\n",
      "+---+--------------------+-----+\n",
      "only showing top 5 rows\n",
      "\n"
     ]
    }
   ],
   "source": [
    "df=sesion.read.csv(\"sms.csv\",header=False,schema=schema,sep=\";\")\n",
    "df.show(5)"
   ]
  },
  {
   "cell_type": "code",
   "execution_count": 62,
   "id": "4756ec52",
   "metadata": {},
   "outputs": [
    {
     "name": "stdout",
     "output_type": "stream",
     "text": [
      "root\n",
      " |-- id: integer (nullable = true)\n",
      " |-- text: string (nullable = true)\n",
      " |-- label: integer (nullable = true)\n",
      "\n"
     ]
    }
   ],
   "source": [
    "df.printSchema()"
   ]
  },
  {
   "cell_type": "code",
   "execution_count": 76,
   "id": "064e1099",
   "metadata": {},
   "outputs": [],
   "source": [
    "##taking onlythe 10% of the raws for the training\n",
    "df=df.sample(0.10)"
   ]
  },
  {
   "cell_type": "code",
   "execution_count": 71,
   "id": "1baf8122",
   "metadata": {},
   "outputs": [],
   "source": [
    "# Break text into tokens at non-word characters\n",
    "tokenizer = Tokenizer(inputCol='text', outputCol='words')\n",
    "\n",
    "# Remove stop words\n",
    "remover = StopWordsRemover(inputCol='words', outputCol='terms')\n",
    "\n",
    "# Apply the hashing trick and transform to TF-IDF\n",
    "hasher = HashingTF(inputCol='terms', outputCol=\"hash\")\n",
    "idf = IDF(inputCol=\"hash\", outputCol=\"features\")\n",
    "\n",
    "# Create a logistic regression object and add everything to a pipeline\n",
    "logistic = LogisticRegression()\n",
    "\n",
    "##Creating the pipeline\n",
    "pipeline = Pipeline(stages=[tokenizer, remover, hasher,idf, logistic])"
   ]
  },
  {
   "cell_type": "code",
   "execution_count": 72,
   "id": "dab2ad98",
   "metadata": {},
   "outputs": [],
   "source": [
    "# Create parameter grid\n",
    "params = ParamGridBuilder()\n",
    "\n",
    "# Add grid for hashing trick parameters\n",
    "params = params.addGrid(hasher.numFeatures,[1024,4096,16384]) \\\n",
    "               .addGrid(hasher.binary, [True,False])\n",
    "\n",
    "# Add grid for logistic regression parameters\n",
    "params = params.addGrid(logistic.regParam,[0.01,0.1,1,10]) \\\n",
    "               .addGrid(logistic.elasticNetParam,[0.0,0.5,1])\n",
    "\n",
    "# Build parameter grid\n",
    "params = params.build()\n"
   ]
  },
  {
   "cell_type": "markdown",
   "id": "c4593386",
   "metadata": {},
   "source": [
    "## CV and AUC Metric"
   ]
  },
  {
   "cell_type": "code",
   "execution_count": 110,
   "id": "c5ce1edd",
   "metadata": {},
   "outputs": [],
   "source": [
    "#Build a evaluator for AUC\n",
    "\n",
    "evaluator_auc = BinaryClassificationEvaluator(labelCol=\"label\", rawPredictionCol=\"prediction\", metricName=\"areaUnderROC\")\n",
    "\n",
    "# Creating a cross-validator.\n",
    "\n",
    "cv = CrossValidator(estimator=pipeline,\n",
    "          estimatorParamMaps=params,\n",
    "          evaluator=evaluator_auc)"
   ]
  },
  {
   "cell_type": "code",
   "execution_count": 111,
   "id": "50e035b7",
   "metadata": {},
   "outputs": [],
   "source": [
    "##Creating a training and testing dataset\n",
    "sms_train,sms_test = df.randomSplit([0.8, 0.2], seed=420)"
   ]
  },
  {
   "cell_type": "code",
   "execution_count": 112,
   "id": "a9a9647c",
   "metadata": {},
   "outputs": [
    {
     "data": {
      "text/plain": [
       "42"
      ]
     },
     "execution_count": 112,
     "metadata": {},
     "output_type": "execute_result"
    }
   ],
   "source": [
    "df.count()"
   ]
  },
  {
   "cell_type": "code",
   "execution_count": 113,
   "id": "0b456244",
   "metadata": {},
   "outputs": [
    {
     "data": {
      "text/plain": [
       "CrossValidatorModel_c1c549c59a80"
      ]
     },
     "execution_count": 113,
     "metadata": {},
     "output_type": "execute_result"
    }
   ],
   "source": [
    "##Training the model\n",
    "cv=cv.fit(sms_train)\n",
    "cv"
   ]
  },
  {
   "cell_type": "code",
   "execution_count": 114,
   "id": "28bfbeff",
   "metadata": {},
   "outputs": [
    {
     "name": "stdout",
     "output_type": "stream",
     "text": [
      "+-----+----------+\n",
      "|label|prediction|\n",
      "+-----+----------+\n",
      "|    1|       0.0|\n",
      "|    0|       0.0|\n",
      "|    0|       0.0|\n",
      "|    0|       0.0|\n",
      "|    0|       0.0|\n",
      "|    1|       1.0|\n",
      "|    0|       0.0|\n",
      "+-----+----------+\n",
      "only showing top 7 rows\n",
      "\n",
      "AUC score on the test data: 75.00 %\n"
     ]
    }
   ],
   "source": [
    "# Obtaining the best model\n",
    "best_model = cv.bestModel\n",
    "\n",
    "# Getting the classifier\n",
    "rf_model = best_model.stages[-1] \n",
    "\n",
    "# Making predictions\n",
    "predictions = best_model.transform(sms_test)\n",
    "\n",
    "# Show the comparison\n",
    "predictions.select(\"label\",\"prediction\").show(7)\n",
    "\n",
    "# Calculating te AUC\n",
    "auc_score =evaluator_auc.evaluate(predictions)\n",
    "\n",
    "print(f\"AUC score on the test data: {auc_score*100:.2f} %\")\n"
   ]
  },
  {
   "cell_type": "markdown",
   "id": "fed05bdf",
   "metadata": {},
   "source": [
    "## CV and F1 Metric"
   ]
  },
  {
   "cell_type": "code",
   "execution_count": 115,
   "id": "f258f62b",
   "metadata": {},
   "outputs": [],
   "source": [
    "#Build a evaluator for F1\n",
    "evaluator_f1 = MulticlassClassificationEvaluator(labelCol=\"label\", predictionCol=\"prediction\", metricName=\"f1\")\n",
    "\n",
    "# Creating a cross-validator.\n",
    "\n",
    "cv = CrossValidator(estimator=pipeline,\n",
    "          estimatorParamMaps=params,\n",
    "          evaluator=evaluator_f1)\n",
    "\n",
    "##Training the model\n",
    "cv=cv.fit(sms_train)"
   ]
  },
  {
   "cell_type": "code",
   "execution_count": 116,
   "id": "63f25220",
   "metadata": {},
   "outputs": [
    {
     "name": "stdout",
     "output_type": "stream",
     "text": [
      "+-----+----------+\n",
      "|label|prediction|\n",
      "+-----+----------+\n",
      "|    1|       0.0|\n",
      "|    0|       0.0|\n",
      "|    0|       0.0|\n",
      "|    0|       0.0|\n",
      "|    0|       0.0|\n",
      "+-----+----------+\n",
      "only showing top 5 rows\n",
      "\n",
      "F1 score on the test data: 75.00 %\n"
     ]
    }
   ],
   "source": [
    "# Obtaining the best model\n",
    "best_model = cv.bestModel\n",
    "\n",
    "# Getting the classifier\n",
    "rf_model = best_model.stages[-1]  \n",
    "\n",
    "# Making predictions\n",
    "predictions = best_model.transform(sms_test)\n",
    "\n",
    "# Show the comparison\n",
    "predictions.select(\"label\",\"prediction\").show(5)\n",
    "\n",
    "# Calculating the F1-score\n",
    "f1_score =evaluator_auc.evaluate(predictions)\n",
    "\n",
    "print(f\"F1 score on the test data: {f1_score*100:.2f} %\")\n"
   ]
  }
 ],
 "metadata": {
  "kernelspec": {
   "display_name": "Python 3 (ipykernel)",
   "language": "python",
   "name": "python3"
  },
  "language_info": {
   "codemirror_mode": {
    "name": "ipython",
    "version": 3
   },
   "file_extension": ".py",
   "mimetype": "text/x-python",
   "name": "python",
   "nbconvert_exporter": "python",
   "pygments_lexer": "ipython3",
   "version": "3.9.13"
  }
 },
 "nbformat": 4,
 "nbformat_minor": 5
}
